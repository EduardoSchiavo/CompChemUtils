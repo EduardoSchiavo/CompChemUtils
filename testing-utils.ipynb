{
 "cells": [
  {
   "cell_type": "markdown",
   "metadata": {},
   "source": [
    "# ORCA utilities\n",
    "\n",
    "Utilities for input creation and output post-processing"
   ]
  },
  {
   "cell_type": "markdown",
   "metadata": {},
   "source": [
    "## Geometry Splitter for CREST conformers"
   ]
  },
  {
   "cell_type": "code",
   "execution_count": 1,
   "metadata": {},
   "outputs": [
    {
     "ename": "KeyboardInterrupt",
     "evalue": "Interrupted by user",
     "output_type": "error",
     "traceback": [
      "\u001b[0;31m---------------------------------------------------------------------------\u001b[0m",
      "\u001b[0;31mKeyboardInterrupt\u001b[0m                         Traceback (most recent call last)",
      "\u001b[0;32m<ipython-input-1-d59280f6abd6>\u001b[0m in \u001b[0;36m<module>\u001b[0;34m\u001b[0m\n\u001b[1;32m      1\u001b[0m \u001b[0;32mwith\u001b[0m \u001b[0mopen\u001b[0m\u001b[0;34m(\u001b[0m\u001b[0;34m'crest_conformers.xyz'\u001b[0m\u001b[0;34m)\u001b[0m \u001b[0;32mas\u001b[0m \u001b[0mifile\u001b[0m\u001b[0;34m:\u001b[0m\u001b[0;34m\u001b[0m\u001b[0;34m\u001b[0m\u001b[0m\n\u001b[1;32m      2\u001b[0m \u001b[0;34m\u001b[0m\u001b[0m\n\u001b[0;32m----> 3\u001b[0;31m         \u001b[0mname\u001b[0m\u001b[0;34m=\u001b[0m\u001b[0minput\u001b[0m\u001b[0;34m(\u001b[0m\u001b[0;34m'Enter name of the fragments: '\u001b[0m\u001b[0;34m)\u001b[0m\u001b[0;34m\u001b[0m\u001b[0;34m\u001b[0m\u001b[0m\n\u001b[0m\u001b[1;32m      4\u001b[0m         \u001b[0mfunc\u001b[0m\u001b[0;34m=\u001b[0m\u001b[0minput\u001b[0m\u001b[0;34m(\u001b[0m\u001b[0;34m'Which functional? '\u001b[0m\u001b[0;34m)\u001b[0m\u001b[0;34m\u001b[0m\u001b[0;34m\u001b[0m\u001b[0m\n\u001b[1;32m      5\u001b[0m         \u001b[0mdisp\u001b[0m\u001b[0;34m=\u001b[0m\u001b[0minput\u001b[0m\u001b[0;34m(\u001b[0m\u001b[0;34m'Which dispersion correction? '\u001b[0m\u001b[0;34m)\u001b[0m\u001b[0;34m\u001b[0m\u001b[0;34m\u001b[0m\u001b[0m\n",
      "\u001b[0;32m~/anaconda3/lib/python3.8/site-packages/ipykernel/kernelbase.py\u001b[0m in \u001b[0;36mraw_input\u001b[0;34m(self, prompt)\u001b[0m\n\u001b[1;32m    858\u001b[0m                 \u001b[0;34m\"raw_input was called, but this frontend does not support input requests.\"\u001b[0m\u001b[0;34m\u001b[0m\u001b[0;34m\u001b[0m\u001b[0m\n\u001b[1;32m    859\u001b[0m             )\n\u001b[0;32m--> 860\u001b[0;31m         return self._input_request(str(prompt),\n\u001b[0m\u001b[1;32m    861\u001b[0m             \u001b[0mself\u001b[0m\u001b[0;34m.\u001b[0m\u001b[0m_parent_ident\u001b[0m\u001b[0;34m,\u001b[0m\u001b[0;34m\u001b[0m\u001b[0;34m\u001b[0m\u001b[0m\n\u001b[1;32m    862\u001b[0m             \u001b[0mself\u001b[0m\u001b[0;34m.\u001b[0m\u001b[0m_parent_header\u001b[0m\u001b[0;34m,\u001b[0m\u001b[0;34m\u001b[0m\u001b[0;34m\u001b[0m\u001b[0m\n",
      "\u001b[0;32m~/anaconda3/lib/python3.8/site-packages/ipykernel/kernelbase.py\u001b[0m in \u001b[0;36m_input_request\u001b[0;34m(self, prompt, ident, parent, password)\u001b[0m\n\u001b[1;32m    902\u001b[0m             \u001b[0;32mexcept\u001b[0m \u001b[0mKeyboardInterrupt\u001b[0m\u001b[0;34m:\u001b[0m\u001b[0;34m\u001b[0m\u001b[0;34m\u001b[0m\u001b[0m\n\u001b[1;32m    903\u001b[0m                 \u001b[0;31m# re-raise KeyboardInterrupt, to truncate traceback\u001b[0m\u001b[0;34m\u001b[0m\u001b[0;34m\u001b[0m\u001b[0;34m\u001b[0m\u001b[0m\n\u001b[0;32m--> 904\u001b[0;31m                 \u001b[0;32mraise\u001b[0m \u001b[0mKeyboardInterrupt\u001b[0m\u001b[0;34m(\u001b[0m\u001b[0;34m\"Interrupted by user\"\u001b[0m\u001b[0;34m)\u001b[0m \u001b[0;32mfrom\u001b[0m \u001b[0;32mNone\u001b[0m\u001b[0;34m\u001b[0m\u001b[0;34m\u001b[0m\u001b[0m\n\u001b[0m\u001b[1;32m    905\u001b[0m             \u001b[0;32mexcept\u001b[0m \u001b[0mException\u001b[0m \u001b[0;32mas\u001b[0m \u001b[0me\u001b[0m\u001b[0;34m:\u001b[0m\u001b[0;34m\u001b[0m\u001b[0;34m\u001b[0m\u001b[0m\n\u001b[1;32m    906\u001b[0m                 \u001b[0mself\u001b[0m\u001b[0;34m.\u001b[0m\u001b[0mlog\u001b[0m\u001b[0;34m.\u001b[0m\u001b[0mwarning\u001b[0m\u001b[0;34m(\u001b[0m\u001b[0;34m\"Invalid Message:\"\u001b[0m\u001b[0;34m,\u001b[0m \u001b[0mexc_info\u001b[0m\u001b[0;34m=\u001b[0m\u001b[0;32mTrue\u001b[0m\u001b[0;34m)\u001b[0m\u001b[0;34m\u001b[0m\u001b[0;34m\u001b[0m\u001b[0m\n",
      "\u001b[0;31mKeyboardInterrupt\u001b[0m: Interrupted by user"
     ]
    }
   ],
   "source": [
    "with open('crest_conformers.xyz') as ifile:\n",
    "        \n",
    "        name=input('Enter name of the fragments: ')\n",
    "        func=input('Which functional? ')\n",
    "        disp=input('Which dispersion correction? ')\n",
    "        atn = int(input('How many atoms? '))\n",
    "        geo_num=int(input('How many conformations? '))\n",
    "        \n",
    "        \n",
    "#         geo_num=234\n",
    "        \n",
    "        basis = \"def2-QZVPP\"\n",
    "        \n",
    "\n",
    "        \n",
    "        \n",
    "        N=0\n",
    "        \n",
    "        for line in ifile:\n",
    "#             print(line)\n",
    "            if str(atn) in line.split(): #Use occurrences of the atom number line to count the geometries\n",
    "                N=N+1\n",
    "\n",
    "                with open(\"{0}_{1}_{2}.inp\".format(name, func, N), 'w') as output:\n",
    "                    output.write('!' + func + \" \" + disp + \" \"+ basis + \"\\n\")\n",
    "                    output.write(\"\\n\")\n",
    "                    output.write(\"%pal nprocs 8 end\\n\")\n",
    "                    output.write(\"\\n\")\n",
    "                    output.write('*xyz 0 1\\n')\n",
    "                    a=next(ifile)\n",
    "                    for i in range(atn):\n",
    "                        output.write(next(ifile))\n",
    "                    output.write('*')\n",
    "\n",
    "                    \n"
   ]
  },
  {
   "cell_type": "markdown",
   "metadata": {},
   "source": [
    "## Analysis of CREST conformers\n",
    "\n",
    "plot results from a crest run as a histogram "
   ]
  },
  {
   "cell_type": "code",
   "execution_count": 1,
   "metadata": {},
   "outputs": [],
   "source": [
    "import matplotlib.pyplot as plt\n",
    "import pandas as pd"
   ]
  },
  {
   "cell_type": "markdown",
   "metadata": {},
   "source": [
    "## crestutils\n",
    "\n",
    "import my own crest utilities python module"
   ]
  },
  {
   "cell_type": "code",
   "execution_count": 2,
   "metadata": {},
   "outputs": [],
   "source": [
    "import crestutils"
   ]
  },
  {
   "cell_type": "code",
   "execution_count": 59,
   "metadata": {},
   "outputs": [],
   "source": [
    "conformers=crest_to_dataframe('crest.out')"
   ]
  },
  {
   "cell_type": "code",
   "execution_count": 60,
   "metadata": {},
   "outputs": [
    {
     "data": {
      "text/plain": [
       "Text(0.5, 1.0, 'First Crest Run')"
      ]
     },
     "execution_count": 60,
     "metadata": {},
     "output_type": "execute_result"
    },
    {
     "data": {
      "image/png": "[encoded data removed]",
      "text/plain": [
       "<Figure size 1080x360 with 1 Axes>"
      ]
     },
     "metadata": {
      "needs_background": "light"
     },
     "output_type": "display_data"
    }
   ],
   "source": [
    "## when done turn into plotter function and include in crestutils module\n",
    "# conformers.plot()\n",
    "\n",
    "conformers.plot(kind='bar', x='Energy',y='Weight',figsize=(15, 5))\n",
    "\n",
    "plt.title('First Crest Run')\n"
   ]
  },
  {
   "cell_type": "code",
   "execution_count": null,
   "metadata": {},
   "outputs": [],
   "source": [
    "\n"
   ]
  },
  {
   "cell_type": "code",
   "execution_count": 61,
   "metadata": {},
   "outputs": [],
   "source": [
    "import sys"
   ]
  },
  {
   "cell_type": "code",
   "execution_count": 62,
   "metadata": {},
   "outputs": [
    {
     "data": {
      "text/plain": [
       "['/Users/Eduardo/Documents/Python-scripts/utilities',\n",
       " '/Users/Eduardo/anaconda3/lib/python38.zip',\n",
       " '/Users/Eduardo/anaconda3/lib/python3.8',\n",
       " '/Users/Eduardo/anaconda3/lib/python3.8/lib-dynload',\n",
       " '',\n",
       " '/Users/Eduardo/.local/lib/python3.8/site-packages',\n",
       " '/Users/Eduardo/anaconda3/lib/python3.8/site-packages',\n",
       " '/Users/Eduardo/anaconda3/lib/python3.8/site-packages/aeosa',\n",
       " '/Users/Eduardo/anaconda3/lib/python3.8/site-packages/IPython/extensions',\n",
       " '/Users/Eduardo/.ipython']"
      ]
     },
     "execution_count": 62,
     "metadata": {},
     "output_type": "execute_result"
    }
   ],
   "source": [
    "sys.path"
   ]
  },
  {
   "cell_type": "code",
   "execution_count": 43,
   "metadata": {},
   "outputs": [
    {
     "name": "stdout",
     "output_type": "stream",
     "text": [
      "Collecting reload\n",
      "  Downloading reload-0.9.tar.gz (2.5 kB)\n",
      "Requirement already satisfied: watchdog>=0.8 in /Users/Eduardo/anaconda3/lib/python3.8/site-packages (from reload) (0.10.3)\n",
      "Requirement already satisfied: pathtools>=0.1.1 in /Users/Eduardo/anaconda3/lib/python3.8/site-packages (from watchdog>=0.8->reload) (0.1.2)\n",
      "Building wheels for collected packages: reload\n",
      "  Building wheel for reload (setup.py) ... \u001b[?25ldone\n",
      "\u001b[?25h  Created wheel for reload: filename=reload-0.9-py3-none-any.whl size=2880 sha256=54fc5b5721d56ce49b9eecce514a4d1c2e49e9b357f3c3de413f4cfcdd234dcd\n",
      "  Stored in directory: /Users/Eduardo/Library/Caches/pip/wheels/13/5b/36/44f345ed056eb5653827abca66990ecd49bd6c034e0cd89909\n",
      "Successfully built reload\n",
      "Installing collected packages: reload\n",
      "Successfully installed reload-0.9\n"
     ]
    }
   ],
   "source": [
    "!pip install reload"
   ]
  },
  {
   "cell_type": "code",
   "execution_count": 42,
   "metadata": {},
   "outputs": [],
   "source": [
    "import ledutils as led\n",
    "import pandas as pd\n",
    "import math"
   ]
  },
  {
   "cell_type": "code",
   "execution_count": null,
   "metadata": {},
   "outputs": [],
   "source": []
  },
  {
   "cell_type": "code",
   "execution_count": 9,
   "metadata": {},
   "outputs": [],
   "source": [
    "bich3=led.Parser.struct_from_led('LED_test/bich3_led.dat')\n",
    "chair=led.Parser.struct_from_led('LED_test/chr_led.dat')\n",
    "dimer=led.Parser.struct_from_led('LED_test/bich3_chr_led.dat')\n",
    "\n"
   ]
  },
  {
   "cell_type": "code",
   "execution_count": 10,
   "metadata": {},
   "outputs": [
    {
     "name": "stdout",
     "output_type": "stream",
     "text": [
      "-566.328262965 -2.0294330659999997\n"
     ]
    }
   ],
   "source": [
    "print(dimer.hf,dimer.non_disp )"
   ]
  },
  {
   "cell_type": "code",
   "execution_count": 46,
   "metadata": {},
   "outputs": [],
   "source": [
    "#Computes the LED Deltas from Struct Objects and returns the components as a dict\n",
    "def compute_led_components(dimer, frag1, frag2):\n",
    "    \n",
    "    deltaTot=dimer.tot-frag1.tot-frag2.tot\n",
    "    deltaTriples=dimer.triples-frag1.triples-frag2.triples\n",
    "    elPrepFrag1=dimer.int_frag_1-frag1.hf\n",
    "    elPrepFrag2=dimer.int_frag_2-frag2.hf\n",
    "    elPrepTot=elPrepFrag1+elPrepFrag2\n",
    "    elstat=dimer.elstat\n",
    "    exch=dimer.exch\n",
    "    disp=dimer.disp\n",
    "    nonDisp=dimer.non_disp-frag1.ccsd-frag2.ccsd\n",
    "    \n",
    "    ledDict={r'$\\Delta$E(CCSD(T))':deltaTot,\\\n",
    "            r'$\\Delta$E(T)':deltaTriples,\\\n",
    "            r'$\\Delta$E(el-prep)':elPrepTot,\\\n",
    "            'Eelstat':elstat,\\\n",
    "            'Eexch':exch,\\\n",
    "            'Edisp':disp,\\\n",
    "            r'$\\Delta$E(non-disp)':nonDisp}\n",
    "    \n",
    "    ledDataFrame=pd.DataFrame.from_dict(ledDict, orient='index')\n",
    "    \n",
    "    #Check if LED adds up\n",
    "    isok=math.isclose(ledDataFrame.iloc[1:,0].sum(), ledDataFrame.iloc[0,0], abs_tol=1e-04)\n",
    "    if isok==False:\n",
    "        print('WARNING: the sum of the LED components does not match the total DeltaE')\n",
    "    else:\n",
    "        pass\n",
    "    \n",
    "    return ledDataFrame\n",
    "    \n",
    "\n",
    "    \n",
    "    "
   ]
  },
  {
   "cell_type": "code",
   "execution_count": 49,
   "metadata": {},
   "outputs": [
    {
     "data": {
      "text/html": [
       "<div>\n",
       "<style scoped>\n",
       "    .dataframe tbody tr th:only-of-type {\n",
       "        vertical-align: middle;\n",
       "    }\n",
       "\n",
       "    .dataframe tbody tr th {\n",
       "        vertical-align: top;\n",
       "    }\n",
       "\n",
       "    .dataframe thead th {\n",
       "        text-align: right;\n",
       "    }\n",
       "</style>\n",
       "<table border=\"1\" class=\"dataframe\">\n",
       "  <thead>\n",
       "    <tr style=\"text-align: right;\">\n",
       "      <th></th>\n",
       "      <th>0</th>\n",
       "    </tr>\n",
       "  </thead>\n",
       "  <tbody>\n",
       "    <tr>\n",
       "      <th>$\\Delta$E(CCSD(T))</th>\n",
       "      <td>-0.005182</td>\n",
       "    </tr>\n",
       "    <tr>\n",
       "      <th>$\\Delta$E(T)</th>\n",
       "      <td>-0.001099</td>\n",
       "    </tr>\n",
       "    <tr>\n",
       "      <th>$\\Delta$E(el-prep)</th>\n",
       "      <td>0.024573</td>\n",
       "    </tr>\n",
       "    <tr>\n",
       "      <th>Eelstat</th>\n",
       "      <td>-0.013987</td>\n",
       "    </tr>\n",
       "    <tr>\n",
       "      <th>Eexch</th>\n",
       "      <td>-0.006178</td>\n",
       "    </tr>\n",
       "    <tr>\n",
       "      <th>Edisp</th>\n",
       "      <td>-0.007045</td>\n",
       "    </tr>\n",
       "    <tr>\n",
       "      <th>$\\Delta$E(non-disp)</th>\n",
       "      <td>-0.001448</td>\n",
       "    </tr>\n",
       "  </tbody>\n",
       "</table>\n",
       "</div>"
      ],
      "text/plain": [
       "                            0\n",
       "$\\Delta$E(CCSD(T))  -0.005182\n",
       "$\\Delta$E(T)        -0.001099\n",
       "$\\Delta$E(el-prep)   0.024573\n",
       "Eelstat             -0.013987\n",
       "Eexch               -0.006178\n",
       "Edisp               -0.007045\n",
       "$\\Delta$E(non-disp) -0.001448"
      ]
     },
     "execution_count": 49,
     "metadata": {},
     "output_type": "execute_result"
    }
   ],
   "source": [
    "mydf=led.compute_led_components(dimer,chair,bich3)\n",
    "\n",
    "mydf\n",
    "# mydf.iloc[1:,0]\n"
   ]
  },
  {
   "cell_type": "code",
   "execution_count": 50,
   "metadata": {},
   "outputs": [
    {
     "data": {
      "text/plain": [
       "True"
      ]
     },
     "execution_count": 50,
     "metadata": {},
     "output_type": "execute_result"
    }
   ],
   "source": [
    "math.isclose(mydf.iloc[1:,0].sum(), mydf.iloc[0,0], abs_tol=1e-04)"
   ]
  },
  {
   "cell_type": "code",
   "execution_count": null,
   "metadata": {},
   "outputs": [],
   "source": []
  }
 ],
 "metadata": {
  "kernelspec": {
   "display_name": "Python 3",
   "language": "python",
   "name": "python3"
  },
  "language_info": {
   "codemirror_mode": {
    "name": "ipython",
    "version": 3
   },
   "file_extension": ".py",
   "mimetype": "text/x-python",
   "name": "python",
   "nbconvert_exporter": "python",
   "pygments_lexer": "ipython3",
   "version": "3.8.5"
  }
 },
 "nbformat": 4,
 "nbformat_minor": 4
}
