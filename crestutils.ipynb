{
 "cells": [
  {
   "cell_type": "markdown",
   "metadata": {},
   "source": [
    "## Crest Utilities\n",
    "\n",
    "Module containing functions and utilities for crest analysis"
   ]
  },
  {
   "cell_type": "code",
   "execution_count": 8,
   "metadata": {},
   "outputs": [],
   "source": [
    "import matplotlib.pyplot as plt\n",
    "import pandas as pd"
   ]
  },
  {
   "cell_type": "markdown",
   "metadata": {},
   "source": [
    "## crest to dataframe\n",
    "\n",
    "takes the crest.out input and returns a pandas DataFrane object"
   ]
  },
  {
   "cell_type": "code",
   "execution_count": 35,
   "metadata": {},
   "outputs": [],
   "source": [
    "def crest_to_dataframe(crest_out):\n",
    "\n",
    "\n",
    "    with open(crest_out, 'r') as ifile:\n",
    "        #initialize DataFrame\n",
    "        conformers=pd.DataFrame(columns=['Number','Weight','Energy (Eh)'])\n",
    "\n",
    "        for line in ifile:\n",
    "            if \"total number unique points\" in line:\n",
    "                unique_points=int(line.split()[7]) # get total number of structures \n",
    "                rows=ifile.readlines()[1:unique_points]    #rows f the table\n",
    "\n",
    "                for i,row in  enumerate(rows):  \n",
    "                    if len(row.split())>6:     #isolate rows containing 'real conformers'\n",
    "                        #read number, energy and weight\n",
    "                        conf_num=int(row.split()[5])\n",
    "                        conf_energy=float(row.split()[2])\n",
    "                        conf_weight=float(row.split()[3])                        \n",
    "                        #assign to DataFrame\n",
    "                        conformers=conformers.append({'Number':conf_num, 'Weight':conf_weight, 'Energy (Eh)':conf_energy}, ignore_index=True)\n",
    "                        \n",
    "\n",
    "    return conformers\n",
    "\n",
    "#Add one column with energies shifted w.r.t the lowest one and converted to kJ/mol\n",
    "def add_shifted_energies(dataframe):\n",
    "    shifted_E=(dataframe['Energy (Eh)']-dataframe['Energy (Eh)'][0])*2625.5\n",
    "    dataframe[r'$\\Delta$E (kJ mol$^{-1}$)']=shifted_E\n",
    "    return dataframe\n"
   ]
  },
  {
   "cell_type": "code",
   "execution_count": 36,
   "metadata": {},
   "outputs": [
    {
     "data": {
      "text/html": [
       "<div>\n",
       "<style scoped>\n",
       "    .dataframe tbody tr th:only-of-type {\n",
       "        vertical-align: middle;\n",
       "    }\n",
       "\n",
       "    .dataframe tbody tr th {\n",
       "        vertical-align: top;\n",
       "    }\n",
       "\n",
       "    .dataframe thead th {\n",
       "        text-align: right;\n",
       "    }\n",
       "</style>\n",
       "<table border=\"1\" class=\"dataframe\">\n",
       "  <thead>\n",
       "    <tr style=\"text-align: right;\">\n",
       "      <th></th>\n",
       "      <th>Number</th>\n",
       "      <th>Weight</th>\n",
       "      <th>Energy (Eh)</th>\n",
       "      <th>$\\Delta$E (kJ mol$^{-1}$)</th>\n",
       "    </tr>\n",
       "  </thead>\n",
       "  <tbody>\n",
       "    <tr>\n",
       "      <th>0</th>\n",
       "      <td>1.0</td>\n",
       "      <td>0.00294</td>\n",
       "      <td>-44.56179</td>\n",
       "      <td>0.000000</td>\n",
       "    </tr>\n",
       "    <tr>\n",
       "      <th>1</th>\n",
       "      <td>2.0</td>\n",
       "      <td>0.00286</td>\n",
       "      <td>-44.56176</td>\n",
       "      <td>0.078765</td>\n",
       "    </tr>\n",
       "    <tr>\n",
       "      <th>2</th>\n",
       "      <td>3.0</td>\n",
       "      <td>0.00210</td>\n",
       "      <td>-44.56147</td>\n",
       "      <td>0.840160</td>\n",
       "    </tr>\n",
       "    <tr>\n",
       "      <th>3</th>\n",
       "      <td>4.0</td>\n",
       "      <td>0.00199</td>\n",
       "      <td>-44.56142</td>\n",
       "      <td>0.971435</td>\n",
       "    </tr>\n",
       "    <tr>\n",
       "      <th>4</th>\n",
       "      <td>5.0</td>\n",
       "      <td>0.00198</td>\n",
       "      <td>-44.56142</td>\n",
       "      <td>0.971435</td>\n",
       "    </tr>\n",
       "  </tbody>\n",
       "</table>\n",
       "</div>"
      ],
      "text/plain": [
       "   Number   Weight  Energy (Eh)  $\\Delta$E (kJ mol$^{-1}$)\n",
       "0     1.0  0.00294    -44.56179                   0.000000\n",
       "1     2.0  0.00286    -44.56176                   0.078765\n",
       "2     3.0  0.00210    -44.56147                   0.840160\n",
       "3     4.0  0.00199    -44.56142                   0.971435\n",
       "4     5.0  0.00198    -44.56142                   0.971435"
      ]
     },
     "execution_count": 36,
     "metadata": {},
     "output_type": "execute_result"
    }
   ],
   "source": [
    "df=crest_to_dataframe('crest.out')\n",
    "# df.set_index('Number')\n",
    "df=add_shifted_energies(df)\n",
    "df.head()\n"
   ]
  },
  {
   "cell_type": "code",
   "execution_count": null,
   "metadata": {},
   "outputs": [],
   "source": []
  }
 ],
 "metadata": {
  "kernelspec": {
   "display_name": "Python 3",
   "language": "python",
   "name": "python3"
  },
  "language_info": {
   "codemirror_mode": {
    "name": "ipython",
    "version": 3
   },
   "file_extension": ".py",
   "mimetype": "text/x-python",
   "name": "python",
   "nbconvert_exporter": "python",
   "pygments_lexer": "ipython3",
   "version": "3.8.5"
  }
 },
 "nbformat": 4,
 "nbformat_minor": 4
}
