{
 "cells": [
  {
   "cell_type": "markdown",
   "metadata": {},
   "source": [
    "## Crest Utilities\n",
    "\n",
    "Module containing functions and utilities for crest analysis"
   ]
  },
  {
   "cell_type": "code",
   "execution_count": 1,
   "metadata": {},
   "outputs": [],
   "source": [
    "import matplotlib.pyplot as plt\n",
    "import pandas as pd"
   ]
  },
  {
   "cell_type": "markdown",
   "metadata": {},
   "source": [
    "## crest to dataframe\n",
    "\n",
    "takes the crest.out input and returns a pandas DataFrane object"
   ]
  },
  {
   "cell_type": "code",
   "execution_count": 2,
   "metadata": {},
   "outputs": [],
   "source": [
    "def crest_to_dataframe(crest_out):\n",
    "\n",
    "\n",
    "    with open(crest_out, 'r') as ifile:\n",
    "        #initialize DataFrame\n",
    "        conformers=pd.DataFrame(columns=['Energy','Weight','Number'])\n",
    "\n",
    "        for line in ifile:\n",
    "            if \"total number unique points\" in line:\n",
    "                unique_points=int(line.split()[7]) # get total number of structures \n",
    "                rows=ifile.readlines()[1:unique_points]    #rows f the table\n",
    "\n",
    "                for i,row in  enumerate(rows):  \n",
    "                    if len(row.split())>6:     #isolate rows containing 'real conformers'\n",
    "                        #read number, energy and weight\n",
    "                        conf_num=int(row.split()[5])\n",
    "                        conf_energy=float(row.split()[2])\n",
    "                        conf_weight=float(row.split()[3])\n",
    "                        #assign to DataFrame\n",
    "                        conformers=conformers.append({'Energy':conf_energy, 'Weight':conf_weight, 'Number':conf_num}, ignore_index=True)\n",
    "\n",
    "    return conformers"
   ]
  },
  {
   "cell_type": "code",
   "execution_count": null,
   "metadata": {},
   "outputs": [],
   "source": []
  }
 ],
 "metadata": {
  "kernelspec": {
   "display_name": "Python 3",
   "language": "python",
   "name": "python3"
  },
  "language_info": {
   "codemirror_mode": {
    "name": "ipython",
    "version": 3
   },
   "file_extension": ".py",
   "mimetype": "text/x-python",
   "name": "python",
   "nbconvert_exporter": "python",
   "pygments_lexer": "ipython3",
   "version": "3.8.5"
  }
 },
 "nbformat": 4,
 "nbformat_minor": 4
}
