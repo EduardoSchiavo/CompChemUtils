{
 "cells": [
  {
   "cell_type": "markdown",
   "metadata": {},
   "source": [
    "# ORCA utilities\n",
    "\n",
    "Utilities for input creation and output post-processing"
   ]
  },
  {
   "cell_type": "markdown",
   "metadata": {},
   "source": [
    "## Geometry Splitter for CREST conformers"
   ]
  },
  {
   "cell_type": "code",
   "execution_count": 25,
   "metadata": {},
   "outputs": [],
   "source": [
    "with open('crest_conformers.xyz') as ifile:\n",
    "        \n",
    "        name=input('Enter name of the fragments: ')\n",
    "        func=input('Which functional? ')\n",
    "        disp=input('Which dispersion correction? ')\n",
    "        atn = int(input('How many atoms? '))\n",
    "        geo_num=int(input('How many conformations? '))\n",
    "        \n",
    "        \n",
    "#         geo_num=234\n",
    "        \n",
    "        basis = \"def2-QZVPP\"\n",
    "        \n",
    "\n",
    "        \n",
    "        \n",
    "        N=0\n",
    "        \n",
    "        for line in ifile:\n",
    "#             print(line)\n",
    "            if str(atn) in line.split():\n",
    "                N=N+1\n",
    "\n",
    "                with open(\"{0}_{1}_{2}.inp\".format(name, func, N), 'w') as output:\n",
    "                    output.write('!' + func + \" \" + disp + \" \"+ basis + \"\\n\")\n",
    "                    output.write(\"\\n\")\n",
    "                    output.write(\"%pal nprocs 8 end\\n\")\n",
    "                    output.write(\"\\n\")\n",
    "                    output.write('*xyz 0 1\\n')\n",
    "                    a=next(ifile)\n",
    "                    for i in range(atn):\n",
    "                        output.write(next(ifile))\n",
    "                    output.write('*')\n",
    "\n",
    "                    \n"
   ]
  },
  {
   "cell_type": "code",
   "execution_count": null,
   "metadata": {},
   "outputs": [],
   "source": []
  },
  {
   "cell_type": "code",
   "execution_count": null,
   "metadata": {},
   "outputs": [],
   "source": []
  },
  {
   "cell_type": "code",
   "execution_count": null,
   "metadata": {},
   "outputs": [],
   "source": []
  },
  {
   "cell_type": "code",
   "execution_count": null,
   "metadata": {},
   "outputs": [],
   "source": [
    "with open('crest_conformers.xyz') as ifile:\n",
    "        \n",
    "#         name=input('Enter name of the fragments: ')\n",
    "#         func=input('Which functional? ')\n",
    "#         disp=input('Which dispersion correction?')\n",
    "#         atn = int(input('How many atoms? '))\n",
    "        basis = \"def2-QZVPP\"\n",
    "        \n",
    "        name='Test'\n",
    "        func='PBE'\n",
    "        disp='D3'\n",
    "        atn = 31\n",
    "        \n",
    "        geo_num=234\n",
    "        N=0\n",
    "        for line in ifile:\n",
    "#             print(line)\n",
    "\n",
    "\n",
    "            with open(\"{0}_{1}_{2}.inp\".format(name, func, N), 'w') as output:\n",
    "                output.write('!' + func + \" \" + disp + \" \"+ basis + \"\\n\")\n",
    "                output.write(\"\\n\")\n",
    "                output.write(\"%pal nprocs 8 end\\n\")\n",
    "                output.write(\"\\n\")\n",
    "                output.write('*xyz 0 1\\n')\n",
    "#                 a=next(ifile)\n",
    "#                 print(a)\n",
    "                for i in range(atn+1):\n",
    "                    output.write(next(ifile))\n",
    "                output.write('*')\n"
   ]
  }
 ],
 "metadata": {
  "kernelspec": {
   "display_name": "Python 3",
   "language": "python",
   "name": "python3"
  },
  "language_info": {
   "codemirror_mode": {
    "name": "ipython",
    "version": 3
   },
   "file_extension": ".py",
   "mimetype": "text/x-python",
   "name": "python",
   "nbconvert_exporter": "python",
   "pygments_lexer": "ipython3",
   "version": "3.8.5"
  }
 },
 "nbformat": 4,
 "nbformat_minor": 4
}
