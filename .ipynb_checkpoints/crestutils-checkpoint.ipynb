{
 "cells": [
  {
   "cell_type": "markdown",
   "metadata": {},
   "source": [
    "## Crest Utilities\n",
    "\n",
    "Module containing functions and utilities for crest analysis"
   ]
  },
  {
   "cell_type": "code",
   "execution_count": 1,
   "metadata": {},
   "outputs": [],
   "source": [
    "import matplotlib.pyplot as plt\n",
    "import pandas as pd"
   ]
  },
  {
   "cell_type": "markdown",
   "metadata": {},
   "source": [
    "## crest to dataframe\n",
    "\n",
    "takes the crest.out input and returns a pandas DataFrane object"
   ]
  },
  {
   "cell_type": "code",
   "execution_count": 5,
   "metadata": {},
   "outputs": [],
   "source": [
    "def crest_to_dataframe(crest_out):\n",
    "\n",
    "\n",
    "    with open(crest_out, 'r') as ifile:\n",
    "        #initialize DataFrame\n",
    "        conformers=pd.DataFrame(columns=['Number','Weight','Energy (Eh)'])\n",
    "\n",
    "        for line in ifile:\n",
    "            if \"total number unique points\" in line:\n",
    "                unique_points=int(line.split()[7]) # get total number of structures \n",
    "                rows=ifile.readlines()[1:unique_points+1]    #rows f the table\n",
    "\n",
    "                for i,row in  enumerate(rows):  \n",
    "                    if len(row.split())>6:     #isolate rows containing 'real conformers'\n",
    "                        #read number, energy and weight\n",
    "                        conf_num=int(row.split()[5])\n",
    "                        conf_energy=float(row.split()[2])\n",
    "                        conf_weight=float(row.split()[3])                        \n",
    "                        #assign to DataFrame\n",
    "                        conformers=conformers.append({'Number':conf_num, 'Weight':conf_weight, 'Energy (Eh)':conf_energy}, ignore_index=True)\n",
    "                        \n",
    "\n",
    "    return conformers\n",
    "\n",
    "#Add one column with energies shifted w.r.t the lowest one and converted to kJ/mol\n",
    "def add_shifted_energies(dataframe):\n",
    "    shifted_E=(dataframe['Energy (Eh)']-dataframe['Energy (Eh)'][0])*2625.5\n",
    "    dataframe[r'$\\Delta$E (kJ mol$^{-1}$)']=shifted_E\n",
    "    return dataframe\n"
   ]
  },
  {
   "cell_type": "code",
   "execution_count": 6,
   "metadata": {},
   "outputs": [
    {
     "data": {
      "text/html": [
       "<div>\n",
       "<style scoped>\n",
       "    .dataframe tbody tr th:only-of-type {\n",
       "        vertical-align: middle;\n",
       "    }\n",
       "\n",
       "    .dataframe tbody tr th {\n",
       "        vertical-align: top;\n",
       "    }\n",
       "\n",
       "    .dataframe thead th {\n",
       "        text-align: right;\n",
       "    }\n",
       "</style>\n",
       "<table border=\"1\" class=\"dataframe\">\n",
       "  <thead>\n",
       "    <tr style=\"text-align: right;\">\n",
       "      <th></th>\n",
       "      <th>Number</th>\n",
       "      <th>Weight</th>\n",
       "      <th>Energy (Eh)</th>\n",
       "      <th>$\\Delta$E (kJ mol$^{-1}$)</th>\n",
       "    </tr>\n",
       "  </thead>\n",
       "  <tbody>\n",
       "    <tr>\n",
       "      <th>77</th>\n",
       "      <td>78.0</td>\n",
       "      <td>0.00016</td>\n",
       "      <td>-44.55901</td>\n",
       "      <td>7.298890</td>\n",
       "    </tr>\n",
       "    <tr>\n",
       "      <th>78</th>\n",
       "      <td>79.0</td>\n",
       "      <td>0.00015</td>\n",
       "      <td>-44.55900</td>\n",
       "      <td>7.325145</td>\n",
       "    </tr>\n",
       "    <tr>\n",
       "      <th>79</th>\n",
       "      <td>80.0</td>\n",
       "      <td>0.00012</td>\n",
       "      <td>-44.55878</td>\n",
       "      <td>7.902755</td>\n",
       "    </tr>\n",
       "    <tr>\n",
       "      <th>80</th>\n",
       "      <td>81.0</td>\n",
       "      <td>0.00011</td>\n",
       "      <td>-44.55871</td>\n",
       "      <td>8.086540</td>\n",
       "    </tr>\n",
       "    <tr>\n",
       "      <th>81</th>\n",
       "      <td>82.0</td>\n",
       "      <td>0.00011</td>\n",
       "      <td>-44.55871</td>\n",
       "      <td>8.086540</td>\n",
       "    </tr>\n",
       "  </tbody>\n",
       "</table>\n",
       "</div>"
      ],
      "text/plain": [
       "    Number   Weight  Energy (Eh)  $\\Delta$E (kJ mol$^{-1}$)\n",
       "77    78.0  0.00016    -44.55901                   7.298890\n",
       "78    79.0  0.00015    -44.55900                   7.325145\n",
       "79    80.0  0.00012    -44.55878                   7.902755\n",
       "80    81.0  0.00011    -44.55871                   8.086540\n",
       "81    82.0  0.00011    -44.55871                   8.086540"
      ]
     },
     "execution_count": 6,
     "metadata": {},
     "output_type": "execute_result"
    }
   ],
   "source": [
    "df=crest_to_dataframe('crest.out')\n",
    "# df.set_index('Number')\n",
    "df=add_shifted_energies(df)\n",
    "df.tail()\n"
   ]
  },
  {
   "cell_type": "code",
   "execution_count": 7,
   "metadata": {},
   "outputs": [
    {
     "data": {
      "text/html": [
       "<div>\n",
       "<style scoped>\n",
       "    .dataframe tbody tr th:only-of-type {\n",
       "        vertical-align: middle;\n",
       "    }\n",
       "\n",
       "    .dataframe tbody tr th {\n",
       "        vertical-align: top;\n",
       "    }\n",
       "\n",
       "    .dataframe thead th {\n",
       "        text-align: right;\n",
       "    }\n",
       "</style>\n",
       "<table border=\"1\" class=\"dataframe\">\n",
       "  <thead>\n",
       "    <tr style=\"text-align: right;\">\n",
       "      <th></th>\n",
       "      <th>Number</th>\n",
       "      <th>Weight</th>\n",
       "      <th>Energy (Eh)</th>\n",
       "      <th>$\\Delta$E (kJ mol$^{-1}$)</th>\n",
       "    </tr>\n",
       "  </thead>\n",
       "  <tbody>\n",
       "    <tr>\n",
       "      <th>8</th>\n",
       "      <td>9.0</td>\n",
       "      <td>0.00570</td>\n",
       "      <td>-35.11833</td>\n",
       "      <td>3.071835</td>\n",
       "    </tr>\n",
       "    <tr>\n",
       "      <th>9</th>\n",
       "      <td>10.0</td>\n",
       "      <td>0.00469</td>\n",
       "      <td>-35.11815</td>\n",
       "      <td>3.544425</td>\n",
       "    </tr>\n",
       "    <tr>\n",
       "      <th>10</th>\n",
       "      <td>11.0</td>\n",
       "      <td>0.00100</td>\n",
       "      <td>-35.11669</td>\n",
       "      <td>7.377655</td>\n",
       "    </tr>\n",
       "    <tr>\n",
       "      <th>11</th>\n",
       "      <td>12.0</td>\n",
       "      <td>0.00088</td>\n",
       "      <td>-35.11657</td>\n",
       "      <td>7.692715</td>\n",
       "    </tr>\n",
       "    <tr>\n",
       "      <th>12</th>\n",
       "      <td>13.0</td>\n",
       "      <td>0.00084</td>\n",
       "      <td>-35.11652</td>\n",
       "      <td>7.823990</td>\n",
       "    </tr>\n",
       "  </tbody>\n",
       "</table>\n",
       "</div>"
      ],
      "text/plain": [
       "    Number   Weight  Energy (Eh)  $\\Delta$E (kJ mol$^{-1}$)\n",
       "8      9.0  0.00570    -35.11833                   3.071835\n",
       "9     10.0  0.00469    -35.11815                   3.544425\n",
       "10    11.0  0.00100    -35.11669                   7.377655\n",
       "11    12.0  0.00088    -35.11657                   7.692715\n",
       "12    13.0  0.00084    -35.11652                   7.823990"
      ]
     },
     "execution_count": 7,
     "metadata": {},
     "output_type": "execute_result"
    }
   ],
   "source": [
    "df=crest_to_dataframe('/Users/Eduardo/Dropbox/Projects/CyclohexaneBiR3/Crest/crest_outs/bicl_bt/crest.out')\n",
    "# df.set_index('Number')\n",
    "df=add_shifted_energies(df)\n",
    "df.tail()\n"
   ]
  },
  {
   "cell_type": "code",
   "execution_count": null,
   "metadata": {},
   "outputs": [],
   "source": []
  }
 ],
 "metadata": {
  "kernelspec": {
   "display_name": "Python 3",
   "language": "python",
   "name": "python3"
  },
  "language_info": {
   "codemirror_mode": {
    "name": "ipython",
    "version": 3
   },
   "file_extension": ".py",
   "mimetype": "text/x-python",
   "name": "python",
   "nbconvert_exporter": "python",
   "pygments_lexer": "ipython3",
   "version": "3.8.5"
  }
 },
 "nbformat": 4,
 "nbformat_minor": 4
}
